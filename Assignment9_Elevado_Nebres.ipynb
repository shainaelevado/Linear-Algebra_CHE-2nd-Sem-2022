{
  "nbformat": 4,
  "nbformat_minor": 0,
  "metadata": {
    "colab": {
      "name": "Assignment9_Elevado_Nebres",
      "provenance": [],
      "include_colab_link": true
    },
    "kernelspec": {
      "name": "python3",
      "display_name": "Python 3"
    },
    "language_info": {
      "name": "python"
    }
  },
  "cells": [
    {
      "cell_type": "markdown",
      "metadata": {
        "id": "view-in-github",
        "colab_type": "text"
      },
      "source": [
        "<a href=\"https://colab.research.google.com/github/shainaelevado/Linear-Algebra_CHE-2nd-Sem-2022/blob/main/Assignment9_Elevado_Nebres.ipynb\" target=\"_parent\"><img src=\"https://colab.research.google.com/assets/colab-badge.svg\" alt=\"Open In Colab\"/></a>"
      ]
    },
    {
      "cell_type": "markdown",
      "source": [
        "# Lab 9 - Plotting Vector using NumPy and MatPlotLib"
      ],
      "metadata": {
        "id": "EYdNgrjkjWn-"
      }
    },
    {
      "cell_type": "markdown",
      "source": [
        "In this laboratory we will be discussing the basics of numerical and scientific programming by working with Vectors using NumPy and MatPlotLib."
      ],
      "metadata": {
        "id": "CjPjB2uvjZy2"
      }
    },
    {
      "cell_type": "markdown",
      "source": [
        "### Objectives\n",
        "At the end of this activity you will be able to:\n",
        "1. Be familiar with the libraries in Python for numerical and scientific programming.\n",
        "2. Visualize vectors through Python programming.\n",
        "3. Perform simple vector operations through code."
      ],
      "metadata": {
        "id": "OOSbGBRsjd0C"
      }
    },
    {
      "cell_type": "markdown",
      "source": [
        "##Discussion"
      ],
      "metadata": {
        "id": "xIjUK_w4jlav"
      }
    },
    {
      "cell_type": "markdown",
      "source": [
        "###NumPy"
      ],
      "metadata": {
        "id": "8adcLBN7jpvn"
      }
    },
    {
      "cell_type": "markdown",
      "source": [
        "NumPy or Numerical Python, is mainly used for matrix and vector operations. It is capable of declaring computing and representing matrices. Most Python scientific programming libraries uses NumPy as the basic code.\n",
        "\n",
        "Scalars\n",
        "Represent magnitude or a single value\n",
        "\n",
        "Vectors\n",
        "Represent magnitude with directors\n",
        "\n"
      ],
      "metadata": {
        "id": "BecijkhGjyu3"
      }
    },
    {
      "cell_type": "markdown",
      "source": [
        "####Representing Vectors"
      ],
      "metadata": {
        "id": "wahdbN_Xj3-A"
      }
    },
    {
      "cell_type": "markdown",
      "source": [
        "Now that you know how to represent vectors using their component and matrix form we can now hard-code them in Python. Let's say that you have the vectors:"
      ],
      "metadata": {
        "id": "SqWp3rrOj-Ig"
      }
    },
    {
      "cell_type": "markdown",
      "source": [
        "$$ A = 3\\hat{x} + 2\\hat{y} \\\\\n",
        "B = 1\\hat{x} - 4\\hat{y}\\\\\n",
        "C = 3ax + 2ay - 1az \\\\\n",
        "D = 1\\hat{i} - 1\\hat{j} + 2\\hat{k}$$"
      ],
      "metadata": {
        "id": "O20ImzYQkNsc"
      }
    },
    {
      "cell_type": "markdown",
      "source": [
        "In which it's matrix equivalent is:"
      ],
      "metadata": {
        "id": "RbVmLKyYkQBS"
      }
    },
    {
      "cell_type": "markdown",
      "source": [
        "$$ A = \\begin{bmatrix} 4 \\\\ 3\\end{bmatrix} , B = \\begin{bmatrix} 2 \\\\ -5\\end{bmatrix} , C = \\begin{bmatrix} 4 \\\\ 3 \\\\  -2 \\end{bmatrix}, D = \\begin{bmatrix} 2 \\\\ -2 \\\\ 3\\end{bmatrix}\n",
        "$$\n",
        "$$ A = \\begin{bmatrix} 4 & 3\\end{bmatrix} , B = \\begin{bmatrix} 2 & -5\\end{bmatrix} , C = \\begin{bmatrix} 4 & 3 & -2\\end{bmatrix} , D = \\begin{bmatrix} 2 & -2 & 3\\end{bmatrix} \n",
        "$$"
      ],
      "metadata": {
        "id": "rqWk0dYikVnp"
      }
    },
    {
      "cell_type": "markdown",
      "source": [
        "We can then start doing numpy code with this by:"
      ],
      "metadata": {
        "id": "aJ0G4g6GkZc9"
      }
    },
    {
      "cell_type": "code",
      "source": [
        "## Importing necessary libraries\n",
        "import numpy as np ## 'np' here is short-hand name of the library (numpy) or a nickname."
      ],
      "metadata": {
        "id": "baW6JolzkbNW"
      },
      "execution_count": 1,
      "outputs": []
    },
    {
      "cell_type": "code",
      "source": [
        "L = np.array([3, 2])\n",
        "M = np.array([1, -6])\n",
        "N = np.array([\n",
        "              [3],\n",
        "              [2],\n",
        "              [-3]\n",
        "])\n",
        "O = np.array ([[2],\n",
        "              [-3],\n",
        "              [2]])\n",
        "print('Vector L is ', L)\n",
        "print('Vector M is ', M)\n",
        "print('Vector N is ', N)\n",
        "print('Vector O is ', O)"
      ],
      "metadata": {
        "colab": {
          "base_uri": "https://localhost:8080/"
        },
        "id": "RKHB7Oe7kdei",
        "outputId": "66e95be2-70b4-4af5-ca62-ffd3781a2a2d"
      },
      "execution_count": 2,
      "outputs": [
        {
          "output_type": "stream",
          "name": "stdout",
          "text": [
            "Vector L is  [3 2]\n",
            "Vector M is  [ 1 -6]\n",
            "Vector N is  [[ 3]\n",
            " [ 2]\n",
            " [-3]]\n",
            "Vector O is  [[ 2]\n",
            " [-3]\n",
            " [ 2]]\n"
          ]
        }
      ]
    },
    {
      "cell_type": "markdown",
      "source": [
        "#### Describing vectors in NumPy"
      ],
      "metadata": {
        "id": "lNij76BCkgsB"
      }
    },
    {
      "cell_type": "markdown",
      "source": [
        "Describing vectors is very important if we want to perform basic to advanced operations with them. The fundamental ways in describing vectors are knowing their shape, size and dimensions."
      ],
      "metadata": {
        "id": "xxWYjoUXkigi"
      }
    },
    {
      "cell_type": "code",
      "source": [
        "### Checking shapes\n",
        "### Shapes tells us how many elements are there on each row and column\n",
        "\n",
        "L.shape\n",
        "H = np.array([2, 1, 3, 6, -1.3, 1])\n",
        "H.shape\n",
        "N.shape"
      ],
      "metadata": {
        "colab": {
          "base_uri": "https://localhost:8080/"
        },
        "id": "rFAd_HiUkktI",
        "outputId": "364273be-5cd0-42f7-a52a-8377b4d9ba6f"
      },
      "execution_count": 3,
      "outputs": [
        {
          "output_type": "execute_result",
          "data": {
            "text/plain": [
              "(3, 1)"
            ]
          },
          "metadata": {},
          "execution_count": 3
        }
      ]
    },
    {
      "cell_type": "code",
      "source": [
        "### Checking size\n",
        "### Array/Vector sizes tells us many total number of elements are there in the vector\n",
        "\n",
        "O.size"
      ],
      "metadata": {
        "colab": {
          "base_uri": "https://localhost:8080/"
        },
        "id": "et4gdxhdkmvt",
        "outputId": "5f0fdc3e-890e-4957-851b-e663f7b0312d"
      },
      "execution_count": 4,
      "outputs": [
        {
          "output_type": "execute_result",
          "data": {
            "text/plain": [
              "3"
            ]
          },
          "metadata": {},
          "execution_count": 4
        }
      ]
    },
    {
      "cell_type": "code",
      "source": [
        "### Checking dimensions\n",
        "### The dimensions or rank of a vector tells us how many dimensions are there for the vector.\n",
        "\n",
        "O.ndim"
      ],
      "metadata": {
        "colab": {
          "base_uri": "https://localhost:8080/"
        },
        "id": "fvQHBA4dko7J",
        "outputId": "9a01e92f-0dea-4a8e-fa62-860e4a988817"
      },
      "execution_count": 5,
      "outputs": [
        {
          "output_type": "execute_result",
          "data": {
            "text/plain": [
              "2"
            ]
          },
          "metadata": {},
          "execution_count": 5
        }
      ]
    },
    {
      "cell_type": "markdown",
      "source": [
        "Great! Now let's try to explore in performing operations with these vectors."
      ],
      "metadata": {
        "id": "QQpquwCYkrlx"
      }
    },
    {
      "cell_type": "markdown",
      "source": [
        "#### *Addition* "
      ],
      "metadata": {
        "id": "7TUJjSm8kug8"
      }
    },
    {
      "cell_type": "markdown",
      "source": [
        "The addition rule is simple, the we just need to add the elements of the matrices according to their index. So in this case if we add vector $L$ and vector $M$ we will have a resulting vector:\n",
        "\n",
        "\n"
      ],
      "metadata": {
        "id": "x5F1nLSLkx84"
      }
    },
    {
      "cell_type": "markdown",
      "source": [
        "$$J = 6\\hat{x}-2\\hat{y} \\\\ \\\\or \\\\ \\\\ J = \\begin{bmatrix} 6 \\\\ -2\\end{bmatrix} $$"
      ],
      "metadata": {
        "id": "bYnoDXD_k8SQ"
      }
    },
    {
      "cell_type": "markdown",
      "source": [
        "So let's try to do that in NumPy in several number of ways:"
      ],
      "metadata": {
        "id": "bdzbG3dqk_ot"
      }
    },
    {
      "cell_type": "code",
      "source": [
        "J = np.add(L, M) ## this is the functional method usisng the numpy library\n",
        "K = np.add(N, O)\n"
      ],
      "metadata": {
        "id": "PnJ9o5DzlBnc"
      },
      "execution_count": 6,
      "outputs": []
    },
    {
      "cell_type": "code",
      "source": [
        "J = L + M   ## this is the explicit method, since Python does a value-reference so it can \n",
        "            ## know that these variables would need to do array operations.\n",
        "J"
      ],
      "metadata": {
        "colab": {
          "base_uri": "https://localhost:8080/"
        },
        "id": "5I4nahp4lEH1",
        "outputId": "e2c124eb-a60c-47ea-cd0a-3d718e31becb"
      },
      "execution_count": 7,
      "outputs": [
        {
          "output_type": "execute_result",
          "data": {
            "text/plain": [
              "array([ 4, -4])"
            ]
          },
          "metadata": {},
          "execution_count": 7
        }
      ]
    },
    {
      "cell_type": "code",
      "source": [
        "K = N + O\n",
        "K"
      ],
      "metadata": {
        "colab": {
          "base_uri": "https://localhost:8080/"
        },
        "id": "j4jilsaeeLPE",
        "outputId": "e0c04fc9-263c-446b-952b-82a3f7b32c3a"
      },
      "execution_count": 8,
      "outputs": [
        {
          "output_type": "execute_result",
          "data": {
            "text/plain": [
              "array([[ 5],\n",
              "       [-1],\n",
              "       [-1]])"
            ]
          },
          "metadata": {},
          "execution_count": 8
        }
      ]
    },
    {
      "cell_type": "code",
      "source": [
        "pos1 = np.array([1,1,1])\n",
        "pos2 = np.array([1,2,4])\n",
        "pos3 = np.array([0,4,-1])\n",
        "pos4 = np.array([6,-2,2])\n",
        "#J = pos1 + pos2 + pos3 + pos4\n",
        "#J = np.multiply(pos1, pos4)\n",
        "R = pos3 / pos4\n",
        "R"
      ],
      "metadata": {
        "colab": {
          "base_uri": "https://localhost:8080/"
        },
        "id": "FLSvyUL6lG8h",
        "outputId": "7220dfac-01bd-40e0-fbd4-3f7e4bfce02d"
      },
      "execution_count": 9,
      "outputs": [
        {
          "output_type": "execute_result",
          "data": {
            "text/plain": [
              "array([ 0. , -2. , -0.5])"
            ]
          },
          "metadata": {},
          "execution_count": 9
        }
      ]
    },
    {
      "cell_type": "code",
      "source": [
        "pos1 = np.array([1,1,1])\n",
        "pos2 = np.array([1,2,4])\n",
        "pos3 = np.array([0,4,-1])\n",
        "pos4 = np.array([6,-2,2])\n",
        "R = pos1 + pos2 + pos3 + pos4\n",
        "#R = np.multiply(pos3, pos4)\n",
        "#R = pos2/ pos4\n",
        "R"
      ],
      "metadata": {
        "colab": {
          "base_uri": "https://localhost:8080/"
        },
        "id": "NjdO1yXNfION",
        "outputId": "64802d8d-9437-4ce6-c015-a77a99ec6f1b"
      },
      "execution_count": 10,
      "outputs": [
        {
          "output_type": "execute_result",
          "data": {
            "text/plain": [
              "array([8, 5, 6])"
            ]
          },
          "metadata": {},
          "execution_count": 10
        }
      ]
    },
    {
      "cell_type": "code",
      "source": [
        "pos1 = np.array([1,1,1])\n",
        "pos2 = np.array([1,2,4])\n",
        "pos3 = np.array([0,4,-1])\n",
        "pos4 = np.array([6,-2,2])\n",
        "#R = pos1 + pos2 + pos3 + pos4\n",
        "R = np.multiply(pos3, pos4)\n",
        "#R = pos2 / pos4\n",
        "R"
      ],
      "metadata": {
        "colab": {
          "base_uri": "https://localhost:8080/"
        },
        "id": "AQh8SPPLfcnk",
        "outputId": "d46b061a-3fad-4641-87b5-2aca187c9204"
      },
      "execution_count": 11,
      "outputs": [
        {
          "output_type": "execute_result",
          "data": {
            "text/plain": [
              "array([ 0, -8, -2])"
            ]
          },
          "metadata": {},
          "execution_count": 11
        }
      ]
    },
    {
      "cell_type": "markdown",
      "source": [
        "##### Try for yourself!"
      ],
      "metadata": {
        "id": "Gnr5UDFIlNnC"
      }
    },
    {
      "cell_type": "markdown",
      "source": [
        "Try to implement subtraction, multiplication, and division with vectors $L$ and $M$!"
      ],
      "metadata": {
        "id": "Q9kthMxUlSe4"
      }
    },
    {
      "cell_type": "code",
      "source": [
        "### Try out you code here! \n",
        "\n",
        "### Try out you code here! \n",
        "### Subtraction\n",
        "D = np.subtract (L,M)\n",
        "\n",
        "D\n"
      ],
      "metadata": {
        "id": "QvPPm5lwlU7h",
        "colab": {
          "base_uri": "https://localhost:8080/"
        },
        "outputId": "91754f7a-7690-490e-9226-e96cedad5762"
      },
      "execution_count": 12,
      "outputs": [
        {
          "output_type": "execute_result",
          "data": {
            "text/plain": [
              "array([2, 8])"
            ]
          },
          "metadata": {},
          "execution_count": 12
        }
      ]
    },
    {
      "cell_type": "code",
      "source": [
        "### Multiplication\n",
        "E = np.multiply (L,M)\n",
        "\n",
        "E"
      ],
      "metadata": {
        "colab": {
          "base_uri": "https://localhost:8080/"
        },
        "id": "DGXRYQxkgXW7",
        "outputId": "ba4e35e1-e21a-4555-9b51-ae25a6b0c080"
      },
      "execution_count": 13,
      "outputs": [
        {
          "output_type": "execute_result",
          "data": {
            "text/plain": [
              "array([  3, -12])"
            ]
          },
          "metadata": {},
          "execution_count": 13
        }
      ]
    },
    {
      "cell_type": "code",
      "source": [
        "### Division\n",
        "F = np.divide (L,M)\n",
        "\n",
        "F"
      ],
      "metadata": {
        "colab": {
          "base_uri": "https://localhost:8080/"
        },
        "id": "iiGHSuv8gYsH",
        "outputId": "3bb4e103-2d2f-4122-90bc-7974422c77d8"
      },
      "execution_count": 14,
      "outputs": [
        {
          "output_type": "execute_result",
          "data": {
            "text/plain": [
              "array([ 3.        , -0.33333333])"
            ]
          },
          "metadata": {},
          "execution_count": 14
        }
      ]
    },
    {
      "cell_type": "markdown",
      "source": [
        "### Scaling"
      ],
      "metadata": {
        "id": "j1cu8q5tlXUB"
      }
    },
    {
      "cell_type": "markdown",
      "source": [
        "Scaling or scalar multiplication takes a scalar value and performs multiplication with a vector. Let's take the example below:"
      ],
      "metadata": {
        "id": "pt6q8Gi3lZxJ"
      }
    },
    {
      "cell_type": "markdown",
      "source": [
        ":$$S = 7 \\cdot L$$"
      ],
      "metadata": {
        "id": "cDBrtVQ9lc8x"
      }
    },
    {
      "cell_type": "markdown",
      "source": [
        "We can do this in numpy through:"
      ],
      "metadata": {
        "id": "hTOckUXelhNJ"
      }
    },
    {
      "cell_type": "code",
      "source": [
        "#S = 7 * L\n",
        "S = np.multiply(5,L)\n",
        "S"
      ],
      "metadata": {
        "colab": {
          "base_uri": "https://localhost:8080/"
        },
        "id": "oGQ-1ImPljux",
        "outputId": "171ca702-a9f4-4428-aee6-7076f886c73c"
      },
      "execution_count": 15,
      "outputs": [
        {
          "output_type": "execute_result",
          "data": {
            "text/plain": [
              "array([15, 10])"
            ]
          },
          "metadata": {},
          "execution_count": 15
        }
      ]
    },
    {
      "cell_type": "markdown",
      "source": [
        "*`Try`* to implement scaling with two vectors."
      ],
      "metadata": {
        "id": "dVDPeUyRlmWK"
      }
    },
    {
      "cell_type": "code",
      "source": [
        "###Scaling with two vectors\n",
        "#S = 7 * L\n",
        "#S = 7 * M\n",
        "L = np.array ([2,1])\n",
        "M = np.array ([11,5])\n",
        "S = np.multiply (7,L)\n",
        "S"
      ],
      "metadata": {
        "colab": {
          "base_uri": "https://localhost:8080/"
        },
        "id": "qv9EmZHYgpmS",
        "outputId": "c052fd07-67e1-45ea-e43a-be4a5d4c6927"
      },
      "execution_count": 16,
      "outputs": [
        {
          "output_type": "execute_result",
          "data": {
            "text/plain": [
              "array([14,  7])"
            ]
          },
          "metadata": {},
          "execution_count": 16
        }
      ]
    },
    {
      "cell_type": "code",
      "source": [
        "###Scaling with two vectors\n",
        "#S = 7 * L\n",
        "#S = 7 * M\n",
        "L = np.array ([2,1])\n",
        "M = np.array ([11,5])\n",
        "S = np.multiply (7,M)\n",
        "S"
      ],
      "metadata": {
        "colab": {
          "base_uri": "https://localhost:8080/"
        },
        "id": "pi5VNAcogtGS",
        "outputId": "d95f9634-c7e8-40b9-ca85-819582fb9c78"
      },
      "execution_count": 17,
      "outputs": [
        {
          "output_type": "execute_result",
          "data": {
            "text/plain": [
              "array([77, 35])"
            ]
          },
          "metadata": {},
          "execution_count": 17
        }
      ]
    },
    {
      "cell_type": "markdown",
      "source": [
        "### MatPlotLib"
      ],
      "metadata": {
        "id": "zeYwP1eHlqEC"
      }
    },
    {
      "cell_type": "markdown",
      "source": [
        "MatPlotLib or MATLab Plotting library is Python's take on MATLabs plotting feature. MatPlotLib can be used vastly from graping values to visualizing several dimensions of data."
      ],
      "metadata": {
        "id": "Jh-DpMZDls7D"
      }
    },
    {
      "cell_type": "markdown",
      "source": [
        "#### Visualizing Data"
      ],
      "metadata": {
        "id": "FCBCfKQ0lvpM"
      }
    },
    {
      "cell_type": "markdown",
      "source": [
        "It's not enough just solving these vectors so might need to visualize them. So we'll use MatPlotLib for that. We'll need to import it first."
      ],
      "metadata": {
        "id": "za9kjEUrlxtJ"
      }
    },
    {
      "cell_type": "code",
      "source": [
        "import matplotlib.pyplot as plt\n",
        "import matplotlib\n",
        "%matplotlib inline"
      ],
      "metadata": {
        "id": "a2XnFoWFlzvR"
      },
      "execution_count": 18,
      "outputs": []
    },
    {
      "cell_type": "code",
      "source": [
        "X = [0, -2]\n",
        "Y = [4, -2]\n",
        "#ax = plt.axes(projection='3d')\n",
        "plt.scatter(X[0], X[1], label='X', c='Green')\n",
        "plt.scatter(Y[0], Y[1], label='Y', c='Black')\n",
        "plt.grid()\n",
        "plt.legend()\n",
        "plt.show()"
      ],
      "metadata": {
        "colab": {
          "base_uri": "https://localhost:8080/",
          "height": 265
        },
        "id": "CJ17GQzIl18p",
        "outputId": "109cc03c-4d88-4911-ad98-57431d607787"
      },
      "execution_count": 19,
      "outputs": [
        {
          "output_type": "display_data",
          "data": {
            "text/plain": [
              "<Figure size 432x288 with 1 Axes>"
            ],
            "image/png": "[encoded data removed]"
          },
          "metadata": {
            "needs_background": "light"
          }
        }
      ]
    },
    {
      "cell_type": "code",
      "source": [
        "A = np.array([2, 0])\n",
        "B = np.array([2, 6])\n",
        "R = A + B\n",
        "Magnitude = np.sqrt(np.sum(R**2))\n",
        "plt.title(\"Resultant Vector\\nMagnitude:{}\" .format(Magnitude))\n",
        "plt.xlim(-6, 4)\n",
        "plt.ylim(-6, 4)\n",
        "plt.quiver(0, 0, A[0], A[1], angles='xy', scale_units='xy', scale=1, color='Blue')\n",
        "plt.quiver(A[0], A[1], B[0], B[1], angles='xy', scale_units='xy', scale=1, color='Red')\n",
        "J = X + Y\n",
        "plt.quiver(0, 0, R[0], R[1], angles='xy', scale_units='xy', scale=1, color='Magenta')\n",
        "plt.grid()\n",
        "plt.show()\n",
        "print(J)\n",
        "print(Magnitude)\n",
        "Slope = R[1]/R[0]\n",
        "print(Slope)\n",
        "Angle = (np.arctan(Slope))*(180/np.pi)\n",
        "print(Angle)\n"
      ],
      "metadata": {
        "colab": {
          "base_uri": "https://localhost:8080/",
          "height": 365
        },
        "id": "c3IrpCpxl4ed",
        "outputId": "909d33a8-da32-41e0-8517-be693ff3f5d3"
      },
      "execution_count": 20,
      "outputs": [
        {
          "output_type": "display_data",
          "data": {
            "text/plain": [
              "<Figure size 432x288 with 1 Axes>"
            ],
            "image/png": "[encoded data removed]"
          },
          "metadata": {
            "needs_background": "light"
          }
        },
        {
          "output_type": "stream",
          "name": "stdout",
          "text": [
            "[0, -2, 4, -2]\n",
            "7.211102550927978\n",
            "1.5\n",
            "56.309932474020215\n"
          ]
        }
      ]
    },
    {
      "cell_type": "code",
      "source": [
        "n = A.shape[0]\n",
        "plt.xlim(-10, 10)\n",
        "plt.ylim(-10, 10)\n",
        "plt.quiver(0,0, A[0], A[1], angles='xy', scale_units='xy',scale=1)\n",
        "plt.quiver(A[0],A[1], B[0], B[1], angles='xy', scale_units='xy',scale=1)\n",
        "plt.quiver(0,0, R[0], R[1], angles='xy', scale_units='xy',scale=1)\n",
        "plt.show()"
      ],
      "metadata": {
        "colab": {
          "base_uri": "https://localhost:8080/",
          "height": 269
        },
        "id": "XDmAePtgmPrd",
        "outputId": "94e1c8da-7a4b-4f63-c2f5-c45cb86e4a96"
      },
      "execution_count": 21,
      "outputs": [
        {
          "output_type": "display_data",
          "data": {
            "text/plain": [
              "<Figure size 432x288 with 1 Axes>"
            ],
            "image/png": "[encoded data removed]"
          },
          "metadata": {
            "needs_background": "light"
          }
        }
      ]
    },
    {
      "cell_type": "markdown",
      "source": [
        "Try plotting Three Vectors and show the Resultant Vector as a result.\n",
        "Use Head to Tail Method."
      ],
      "metadata": {
        "id": "0u6f7D9KmSl9"
      }
    },
    {
      "cell_type": "code",
      "source": [
        "####Three vectors\n",
        "A = np.array([9 ,11])\n",
        "B = np.array([6, 8])\n",
        "C = A + B\n",
        "D = np.array([-11, 13])\n",
        "E = D + A + B\n",
        "magnitude = np.sqrt(np.sum(E**2))\n",
        "plt.title(\"Resultant Vector\\nMagnitude: {} \\n Resultant: {}\".format(magnitude, E))\n",
        "plt.xlim(-10, 40)\n",
        "plt.ylim(-10, 40)\n",
        "plt.quiver(0, 0, A[0], A[1], angles='xy', scale_units='xy', scale=1, color='Red')\n",
        "plt.quiver(A[0], A[1], B[0],  B[1], angles='xy', scale_units='xy', scale=1, color='Orange')\n",
        "plt.quiver(C[0], C[1], D[0], D[1], angles='xy', scale_units='xy', scale=1, color='Blue')\n",
        "plt.quiver(0, 0, E[0], E[1], angles='xy', scale_units='xy', scale=1, color='Violet')\n",
        "plt.grid()\n",
        "plt.show()\n",
        "Slope = R[1]/R[0]\n",
        "print(Slope)\n",
        "Angle = (np.arctan(Slope))*(180/np.pi)\n",
        "print(Angle)"
      ],
      "metadata": {
        "colab": {
          "base_uri": "https://localhost:8080/",
          "height": 346
        },
        "id": "dzvvhuK_hCtk",
        "outputId": "db8b4735-5b14-482e-a0b4-2bf527306a94"
      },
      "execution_count": 27,
      "outputs": [
        {
          "output_type": "display_data",
          "data": {
            "text/plain": [
              "<Figure size 432x288 with 1 Axes>"
            ],
            "image/png": "[encoded data removed]"
          },
          "metadata": {
            "needs_background": "light"
          }
        },
        {
          "output_type": "stream",
          "name": "stdout",
          "text": [
            "1.5\n",
            "56.309932474020215\n"
          ]
        }
      ]
    }
  ]
}