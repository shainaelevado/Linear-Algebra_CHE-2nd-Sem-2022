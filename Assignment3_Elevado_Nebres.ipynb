{
  "nbformat": 4,
  "nbformat_minor": 0,
  "metadata": {
    "colab": {
      "name": "Assignment3_Elevado_Nebres.ipynb",
      "provenance": [],
      "authorship_tag": "ABX9TyMfXJIv2mdeSqbMaRFeoeoN",
      "include_colab_link": true
    },
    "kernelspec": {
      "name": "python3",
      "display_name": "Python 3"
    },
    "language_info": {
      "name": "python"
    }
  },
  "cells": [
    {
      "cell_type": "markdown",
      "metadata": {
        "id": "view-in-github",
        "colab_type": "text"
      },
      "source": [
        "<a href=\"https://colab.research.google.com/github/shainaelevado/Linear-Algebra_CHE-2nd-Sem-2022/blob/main/Assignment3_Elevado_Nebres.ipynb\" target=\"_parent\"><img src=\"https://colab.research.google.com/assets/colab-badge.svg\" alt=\"Open In Colab\"/></a>"
      ]
    },
    {
      "cell_type": "markdown",
      "source": [
        "# Linear Algebra for CHE\n",
        "## Assignment 3: Matrices"
      ],
      "metadata": {
        "id": "5DnW9oOBKjKc"
      }
    },
    {
      "cell_type": "markdown",
      "source": [
        "Now that you have a fundamental knowledge about Python, we'll try to look into greater dimensions"
      ],
      "metadata": {
        "id": "95M9O7oiKz0S"
      }
    },
    {
      "cell_type": "markdown",
      "source": [
        "### Objectives\n",
        "1. Be familiar with matrices and their relation to linear equations.\n",
        "2. Perform basic matrix operations\n",
        "3. Program and translate matrix equations and operations using Python.\n",
        "\n"
      ],
      "metadata": {
        "id": "nKhl1InYK7pm"
      }
    },
    {
      "cell_type": "markdown",
      "source": [
        "# Discussion"
      ],
      "metadata": {
        "id": "ttA2PPrOLWCq"
      }
    },
    {
      "cell_type": "code",
      "source": [
        "import numpy as np\n",
        "import matplotlib.pyplot as plt\n",
        "import scipy.linalg as la\n",
        "%matplotlib inline"
      ],
      "metadata": {
        "id": "AB98D1UfLj7L"
      },
      "execution_count": 1,
      "outputs": []
    },
    {
      "cell_type": "markdown",
      "source": [
        "### Matrices"
      ],
      "metadata": {
        "id": "Bvb9bu0rMLUk"
      }
    },
    {
      "cell_type": "markdown",
      "source": [
        "The notation and use of matrices is probably one of the fundamentals of modern computing. Matrices are also handy representations of complex equations or multiple inter-related equations from 2-dimentional equations to even hundreds and thousand of them."
      ],
      "metadata": {
        "id": "LOqH3L_1MN8d"
      }
    },
    {
      "cell_type": "markdown",
      "source": [
        "Let's say for example you have *A* and *B* as system of equation"
      ],
      "metadata": {
        "id": "TXZZ41stMfuU"
      }
    },
    {
      "cell_type": "markdown",
      "source": [
        "$$\n",
        "A = \\left\\{\n",
        "    \\begin{array}\\\n",
        "        x + y\\\\\n",
        "        4x - 10y\n",
        "    \\end{array}\n",
        "\\right.\\\\\n",
        "B = \\left\\{\n",
        "    \\begin{array}\\\n",
        "      x+y+z \\\\\n",
        "      3x -2y -z \\\\\n",
        "      -x + 4y +2z\n",
        "    \\end{array}\n",
        "\\right. \\\\\n",
        "C = \\left\\{\n",
        "    \\begin{array}\\\n",
        "      w-2x+3y-4z \\\\\n",
        "      3w- x -2y +z \\\\\n",
        "      2w -x + 3y - 2z\n",
        "    \\end{array}\n",
        "\\right. \n",
        "$$"
      ],
      "metadata": {
        "id": "QT2UjiBhNSBN"
      }
    },
    {
      "cell_type": "markdown",
      "source": [
        "We could see that *A* is a system of 2 equations with 2 parameters. while *B* is a system of 3 eqautions with 3 parameters. We can represent them as matrices as:"
      ],
      "metadata": {
        "id": "5Oua0MCeNl79"
      }
    },
    {
      "cell_type": "markdown",
      "source": [
        ":$$\n",
        "A=\\begin{bmatrix} 1 & 1 \\\\ 4 & -10\\end{bmatrix} \\\\\n",
        "B=\\begin{bmatrix} 1 & 1 & 1 \\\\ 3 & -2 & -1 \\\\ -1 & 4 & 2\\end{bmatrix}\\\\\n",
        "C=\\begin{bmatrix} 1 & -2 & 3 & -4 \\\\ 3 & -1 & -2 & 1 \\\\ 2 & -1 & 3 & -2\\end{bmatrix} $$"
      ],
      "metadata": {
        "id": "uYU2l4VIN5-S"
      }
    },
    {
      "cell_type": "markdown",
      "source": [
        "So assuming that you already discussed the fundamental representation of matrices, their types, and operations. We'll proceed in doing them in here in Python."
      ],
      "metadata": {
        "id": "vlmZzzNfN634"
      }
    },
    {
      "cell_type": "markdown",
      "source": [
        "### Declaring Matrices"
      ],
      "metadata": {
        "id": "D_rnsla8OKex"
      }
    },
    {
      "cell_type": "markdown",
      "source": [
        "Just like our previous laboratory activity, we'll represent system of linear equations as a matrix. The entities or numbers in matrices are called the element of a matrix. These elements are arranged and ordered in rows and columns which form the list/array-like structure of matrices. And just like arrays, these elements are indexed according to their position with respect to their rows and columns. This can be represented just like the equation below. Whereas *A* is a matrix consisting of elements denoted by *aij*. Denoted by *i* is the number of rows in the matrix while *j* stands for the number of columns"
      ],
      "metadata": {
        "id": "nDLNQHZaOUdC"
      }
    },
    {
      "cell_type": "markdown",
      "source": [
        "$$\n",
        "A=\\begin{bmatrix}\n",
        "a_{(0,0)}&a_{(0,1)}&\\dots&a_{(0,j-1)}\\\\\n",
        "a_{(1,0)}&a_{(1,1)}&\\dots&a_{(1,j-1)}\\\\\n",
        "\\vdots&\\vdots&\\ddots&\\vdots&\\\\\n",
        "a_{(i-1,0)}&a_{(i-1,1)}&\\dots&a_{(i-1,j-1)}\n",
        "\\end{bmatrix}\n",
        "$$"
      ],
      "metadata": {
        "id": "aPi0hDaoPaq9"
      }
    },
    {
      "cell_type": "markdown",
      "source": [
        "We already gone over some of the types of matrices as vectors but we'll further discuss them in this laboratory activity. since you already know how to describe vectors using **shape, dimensions** and **size** attributes. We'll use them to analyze these matrices"
      ],
      "metadata": {
        "id": "3kedDV2xPchb"
      }
    },
    {
      "cell_type": "code",
      "source": [
        "## Since we'll keep on describing matrices. Let's make a function\n",
        "\n",
        "def describe_mat(matrix):\n",
        "    print(f'Matrix:\\n{matrix}\\n\\nShape:\\t{matrix.shape}\\nRank:\\t{matrix.ndim}\\n')"
      ],
      "metadata": {
        "id": "qtT-5CLIP2qM"
      },
      "execution_count": null,
      "outputs": []
    },
    {
      "cell_type": "code",
      "source": [
        "## Delcaring a 2 x 2 matrix\n",
        "\n",
        "A = np.array([\n",
        "    [1, 2],\n",
        "    [3, 1]\n",
        "])\n",
        "describe_mat(A)\n"
      ],
      "metadata": {
        "id": "gJdd6t7RQDoS"
      },
      "execution_count": null,
      "outputs": []
    },
    {
      "cell_type": "code",
      "source": [
        "import numpy as np\n",
        "import matplotlib.pyplot as plt\n",
        "import scipy.linalg as la\n",
        "%matplotlib inline"
      ],
      "metadata": {
        "id": "RestW9K2QWJl"
      },
      "execution_count": null,
      "outputs": []
    },
    {
      "cell_type": "code",
      "source": [
        "G = np.array([\n",
        "    [1,1,3],\n",
        "    [2,2,4]\n",
        "])\n",
        "describe_mat(G)"
      ],
      "metadata": {
        "id": "74S6zQSkQdD0"
      },
      "execution_count": null,
      "outputs": []
    },
    {
      "cell_type": "code",
      "source": [
        "B = np.array([\n",
        "    [8, 2],\n",
        "    [5, 4],\n",
        "    [1, 1]\n",
        "])\n",
        "describe_mat(B)"
      ],
      "metadata": {
        "id": "cQ1d8BIcQhKL"
      },
      "execution_count": null,
      "outputs": []
    },
    {
      "cell_type": "code",
      "source": [
        "H = np.array([1,2,3,4])\n",
        "describe_mat(H)\n",
        "\n",
        "Matrix:\n",
        "[1 2 3 4]\n",
        "\n",
        "Shape: (4,)\n",
        "Rank: 1"
      ],
      "metadata": {
        "id": "yDXB4IyyQh1d"
      },
      "execution_count": null,
      "outputs": []
    },
    {
      "cell_type": "markdown",
      "source": [
        "## Categorizing Matrices"
      ],
      "metadata": {
        "id": "ndqaCfC0S-Xi"
      }
    },
    {
      "cell_type": "markdown",
      "source": [
        "There are several ways of classifying matrices. Once coulb be according to their **shape** and another is according to their **element values**. We'll try to go through them."
      ],
      "metadata": {
        "id": "1X4KwXhMTDOI"
      }
    },
    {
      "cell_type": "markdown",
      "source": [
        "### Row and Column Matrices"
      ],
      "metadata": {
        "id": "MwRJ-ZvSTX76"
      }
    },
    {
      "cell_type": "code",
      "source": [
        "## Declaring a Row Matrix\n",
        "\n",
        "rowmatrix1D = np.array([\n",
        "    1, 3, 2, -4\n",
        "]) ## this is a 1-D Matrix with a shape of (3,), it's not really considered as a row matrix.\n",
        "row_mat_2D = np.array([\n",
        "    [1,2,3, -4]\n",
        "]) ## this is a 2-D Matrix with a shape of (1,3)\n",
        "describe_mat(rowmatrix1D)\n",
        "describe_mat(row_mat_2D)"
      ],
      "metadata": {
        "id": "QYywjigdQjhI"
      },
      "execution_count": null,
      "outputs": []
    },
    {
      "cell_type": "code",
      "source": [
        "col_mat = np.array([\n",
        "    [2],\n",
        "    [6],\n",
        "    [10]\n",
        "]) ## this is a 2-D Matrix with a shape of (3,2)\n",
        "describe_mat(col_mat)\n"
      ],
      "metadata": {
        "id": "BUX2_gFmQm2T"
      },
      "execution_count": null,
      "outputs": []
    },
    {
      "cell_type": "markdown",
      "source": [
        "### Square Matrices"
      ],
      "metadata": {
        "id": "tL1Ua1JlTu6H"
      }
    },
    {
      "cell_type": "markdown",
      "source": [
        "Square matrices have have the same row and column sizes. We could say a mtrix square if *i = j*. We can tweak our matrix descriptor function to determine square matrices."
      ],
      "metadata": {
        "id": "y_cre2lTTxvT"
      }
    },
    {
      "cell_type": "code",
      "source": [
        "def describe_mat(matrix):\n",
        "    is_square = True if matrix.shape[0] == matrix.shape[1] else False \n",
        "    print(f'Matrix:\\n{matrix}\\n\\nShape:\\t{matrix.shape}\\nRank:\\t{matrix.ndim}\\nIs Square: {is_square}\\n')"
      ],
      "metadata": {
        "id": "SnFVg0S_QpUH"
      },
      "execution_count": null,
      "outputs": []
    },
    {
      "cell_type": "code",
      "source": [
        "square_mat = np.array([\n",
        "    [1,2,5],\n",
        "    [3,7,8],\n",
        "    [6,1,2]\n",
        "])\n",
        "\n",
        "non_square_mat = np.array([\n",
        "    [1,2,6],\n",
        "    [3,3,8]\n",
        "])\n",
        "describe_mat(square_mat)\n",
        "describe_mat(non_square_mat)"
      ],
      "metadata": {
        "id": "h_9WnQIaQrOR"
      },
      "execution_count": null,
      "outputs": []
    },
    {
      "cell_type": "code",
      "source": [
        "def describe_mat(matrix):\n",
        "    if matrix.size > 0:\n",
        "        is_square = True if matrix.shape[0] == matrix.shape[1] else False \n",
        "        print(f'Matrix:\\n{matrix}\\n\\nShape:\\t{matrix.shape}\\nRank:\\t{matrix.ndim}\\nIs Square: {is_square}\\n')\n",
        "    else:\n",
        "        print('Matrix is Null')"
      ],
      "metadata": {
        "id": "QOUsWKocQu5g"
      },
      "execution_count": 2,
      "outputs": []
    },
    {
      "cell_type": "code",
      "source": [
        "null_mat = np.array([])\n",
        "describe_mat(null_mat)"
      ],
      "metadata": {
        "colab": {
          "base_uri": "https://localhost:8080/"
        },
        "id": "tQEDi31vQxBm",
        "outputId": "d9708c94-9e48-44ac-b6dd-a24d2519dd3a"
      },
      "execution_count": 3,
      "outputs": [
        {
          "output_type": "stream",
          "name": "stdout",
          "text": [
            "Matrix is Null\n"
          ]
        }
      ]
    },
    {
      "cell_type": "markdown",
      "source": [
        "## Zero Matrix"
      ],
      "metadata": {
        "id": "y_sP5QDJQzI3"
      }
    },
    {
      "cell_type": "markdown",
      "source": [
        "A zero matrix can be any rectangular matrix but with all elements having a value of 0"
      ],
      "metadata": {
        "id": "xybC_0JWUTQH"
      }
    },
    {
      "cell_type": "code",
      "source": [
        "zero_mat_row = np.zeros((1,2))\n",
        "zero_mat_sqr = np.zeros((2,2))\n",
        "zero_mat_rct = np.zeros((3,2))\n",
        "\n",
        "print(f'Zero Row Matrix: \\n{zero_mat_row}')\n",
        "print(f'Zero Square Matrix: \\n{zero_mat_sqr}')\n",
        "print(f'Zero Rectangular Matrix: \\n{zero_mat_rct}')\n"
      ],
      "metadata": {
        "id": "FInlbpRzQ2WM"
      },
      "execution_count": null,
      "outputs": []
    },
    {
      "cell_type": "markdown",
      "source": [
        "## Ones Matrix"
      ],
      "metadata": {
        "id": "St0-Zj7TUK2G"
      }
    },
    {
      "cell_type": "markdown",
      "source": [
        "A ones matrix, just like the zero matrix, can be any rectangular matrix but all of its elements are 1s instead of 0s"
      ],
      "metadata": {
        "id": "_e2cPmecSXop"
      }
    },
    {
      "cell_type": "code",
      "source": [
        "ones_mat_row = np.ones((1,2))\n",
        "ones_mat_sqr = np.ones((2,2))\n",
        "ones_mat_rct = np.ones((3,2))\n",
        "\n",
        "print(f'Ones Row Matrix: \\n{ones_mat_row}')\n",
        "print(f'Ones Square Matrix: \\n{ones_mat_sqr}')\n",
        "print(f'Ones Rectangular Matrix: \\n{ones_mat_rct}')\n"
      ],
      "metadata": {
        "id": "SoACljH6Q5GO"
      },
      "execution_count": null,
      "outputs": []
    },
    {
      "cell_type": "markdown",
      "source": [
        "## Diagonal Matrix"
      ],
      "metadata": {
        "id": "NjlSNg7dQ82l"
      }
    },
    {
      "cell_type": "markdown",
      "source": [
        "A diagonal matrix is a square matrix that has values only at the diagonal of the matrix."
      ],
      "metadata": {
        "id": "0myj155OSSed"
      }
    },
    {
      "cell_type": "code",
      "source": [
        "np.array([\n",
        "    [2,0,0],\n",
        "    [0,3,0],\n",
        "    [0,0,5]\n",
        "])\n"
      ],
      "metadata": {
        "id": "CsH17JidQ_kL"
      },
      "execution_count": null,
      "outputs": []
    },
    {
      "cell_type": "code",
      "source": [
        "d = np.diag([2,3,5,7])\n",
        "#d.shape[0] == d.shape[1]\n",
        "d"
      ],
      "metadata": {
        "id": "FuwgKsejRBjX"
      },
      "execution_count": null,
      "outputs": []
    },
    {
      "cell_type": "markdown",
      "source": [
        "## Identity Matrix"
      ],
      "metadata": {
        "id": "4s9ybK3AREV_"
      }
    },
    {
      "cell_type": "markdown",
      "source": [
        "An identity matrix is a special diagonal matrix in which the values at the diagonal are ones."
      ],
      "metadata": {
        "id": "gjmvSObiSNrQ"
      }
    },
    {
      "cell_type": "code",
      "source": [
        "np.eye(2)"
      ],
      "metadata": {
        "colab": {
          "base_uri": "https://localhost:8080/"
        },
        "id": "nVaTlU5xRIvd",
        "outputId": "b70d6bc5-067c-49bc-c704-adf3f00162fa"
      },
      "execution_count": 4,
      "outputs": [
        {
          "output_type": "execute_result",
          "data": {
            "text/plain": [
              "array([[1., 0.],\n",
              "       [0., 1.]])"
            ]
          },
          "metadata": {},
          "execution_count": 4
        }
      ]
    },
    {
      "cell_type": "code",
      "source": [
        "np.identity(9)"
      ],
      "metadata": {
        "colab": {
          "base_uri": "https://localhost:8080/"
        },
        "id": "_idyjdssRKqR",
        "outputId": "0f18ef9d-a999-43ba-efa6-b02b1d2326cd"
      },
      "execution_count": 5,
      "outputs": [
        {
          "output_type": "execute_result",
          "data": {
            "text/plain": [
              "array([[1., 0., 0., 0., 0., 0., 0., 0., 0.],\n",
              "       [0., 1., 0., 0., 0., 0., 0., 0., 0.],\n",
              "       [0., 0., 1., 0., 0., 0., 0., 0., 0.],\n",
              "       [0., 0., 0., 1., 0., 0., 0., 0., 0.],\n",
              "       [0., 0., 0., 0., 1., 0., 0., 0., 0.],\n",
              "       [0., 0., 0., 0., 0., 1., 0., 0., 0.],\n",
              "       [0., 0., 0., 0., 0., 0., 1., 0., 0.],\n",
              "       [0., 0., 0., 0., 0., 0., 0., 1., 0.],\n",
              "       [0., 0., 0., 0., 0., 0., 0., 0., 1.]])"
            ]
          },
          "metadata": {},
          "execution_count": 5
        }
      ]
    },
    {
      "cell_type": "markdown",
      "source": [
        "## Upper Triangular Matrix"
      ],
      "metadata": {
        "id": "7Z-Na_G8RNbr"
      }
    },
    {
      "cell_type": "markdown",
      "source": [
        "An upper triangular matrix is a matrix that has no values below the diagonal"
      ],
      "metadata": {
        "id": "jjXoN2FWSKot"
      }
    },
    {
      "cell_type": "code",
      "source": [
        "np.array([\n",
        "    [1,2,3,5],\n",
        "    [0,3,1,-2],\n",
        "    [0,0,5,3],\n",
        "    [0,0,0,3]\n",
        "])\n"
      ],
      "metadata": {
        "id": "k3kBoiPXRQyF"
      },
      "execution_count": null,
      "outputs": []
    },
    {
      "cell_type": "code",
      "source": [
        "F = np.array([\n",
        "              [1, -3, 4, -5, 6],\n",
        "              [2, -3, 4, -5, 6],\n",
        "              [-2, -3, 5, -5, 6],\n",
        "              [-6, -3, 4, -5, 6],\n",
        "              [2, -3, 4, -5, 6],\n",
        "])\n",
        "np.triu(F)"
      ],
      "metadata": {
        "id": "nvn6FEVeRSqr"
      },
      "execution_count": null,
      "outputs": []
    },
    {
      "cell_type": "markdown",
      "source": [
        "## Lower Triangular Matrix"
      ],
      "metadata": {
        "id": "kR37M4ALRU1R"
      }
    },
    {
      "cell_type": "markdown",
      "source": [
        "A lower triangular matrix is a matrix that has no values above the diagonal"
      ],
      "metadata": {
        "id": "-eOiE5dJSHxW"
      }
    },
    {
      "cell_type": "code",
      "source": [
        "np.tril(F)"
      ],
      "metadata": {
        "id": "vQ288CevRZOD"
      },
      "execution_count": null,
      "outputs": []
    },
    {
      "cell_type": "markdown",
      "source": [
        "## Practice\n",
        "Given the linear combination below, try to create a corresponding matrix representing it."
      ],
      "metadata": {
        "id": "S492IGH_Rdz7"
      }
    },
    {
      "cell_type": "markdown",
      "source": [
        ":$$\\theta = 5x + 3y - z$$"
      ],
      "metadata": {
        "id": "_rqQci7mRf6X"
      }
    },
    {
      "cell_type": "markdown",
      "source": [
        "2. Given the system of linear combinations below, try to encode it as a matrix. Also describe the matrix."
      ],
      "metadata": {
        "id": "GJYfM-6eRiFV"
      }
    },
    {
      "cell_type": "markdown",
      "source": [
        "$$\n",
        "A = \\left\\{\\begin{array}\n",
        "5x_1 + 2x_2 +x_3\\\\\n",
        "4x_2 - x_3\\\\\n",
        "10x_3\n",
        "\\end{array}\\right.\n",
        "$$\n"
      ],
      "metadata": {
        "id": "aw8HIwRqRt3Z"
      }
    },
    {
      "cell_type": "markdown",
      "source": [
        "$$\n",
        "A = \\left\\{\\begin{array}\n",
        "5x_1 + 2x_2 +x_3\\\\\n",
        "4x_2 - x_3\\\\\n",
        "10x_3\n",
        "\\end{array}\\right.\n",
        "$$\n"
      ],
      "metadata": {
        "id": "c3-CpL46Rugn"
      }
    },
    {
      "cell_type": "markdown",
      "source": [
        "3. Given the matrix below, express it as a linear combination in a markdown and a LaTeX markdown"
      ],
      "metadata": {
        "id": "kga4QTSGRwxO"
      }
    },
    {
      "cell_type": "code",
      "source": [
        "G = np.array([\n",
        "    [1,7,8],\n",
        "    [2,2,2],\n",
        "    [4,6,7]\n",
        "])\n"
      ],
      "metadata": {
        "id": "QXPJTBVqR3hg"
      },
      "execution_count": null,
      "outputs": []
    },
    {
      "cell_type": "markdown",
      "source": [
        "4. Given the matrix below, display the output as a LaTeX markdown also express it as a system of linear combinations."
      ],
      "metadata": {
        "id": "CS1Yju_kR6o_"
      }
    },
    {
      "cell_type": "code",
      "source": [
        "H = np.tril(G)\n",
        "H\n"
      ],
      "metadata": {
        "id": "0xXvtNGRR9_r"
      },
      "execution_count": null,
      "outputs": []
    },
    {
      "cell_type": "code",
      "source": [
        "def create_user (userid):\n",
        "    print(\"Successfully created user: {}\".format(userid))\n",
        "\n",
        "userid = 2021_100001\n",
        "create_user(2021-100100)"
      ],
      "metadata": {
        "id": "dkjIGR2OR_7T"
      },
      "execution_count": null,
      "outputs": []
    },
    {
      "cell_type": "markdown",
      "source": [
        "## Matrix Algebra"
      ],
      "metadata": {
        "id": "AsUa9n-pWJbf"
      }
    },
    {
      "cell_type": "markdown",
      "source": [
        "### Addition"
      ],
      "metadata": {
        "id": "DcJ6G8loWL51"
      }
    },
    {
      "cell_type": "code",
      "source": [
        "A = np.array([\n",
        "    [1,2],\n",
        "    [2,3],\n",
        "    [4,1],          \n",
        "])\n",
        "B = np.array([\n",
        "     [2,2],\n",
        "     [0,0],\n",
        "     [1,1],       \n",
        "])\n",
        "A+B"
      ],
      "metadata": {
        "colab": {
          "base_uri": "https://localhost:8080/"
        },
        "id": "LlBaxLSDWQyi",
        "outputId": "5c6460d7-8512-4f0e-dba7-0dfa90a1db99"
      },
      "execution_count": 7,
      "outputs": [
        {
          "output_type": "execute_result",
          "data": {
            "text/plain": [
              "array([[3, 4],\n",
              "       [2, 3],\n",
              "       [5, 2]])"
            ]
          },
          "metadata": {},
          "execution_count": 7
        }
      ]
    },
    {
      "cell_type": "code",
      "source": [
        "3+A ##Broadcasting\n",
        "# 2*np;.ones(A.shape)+A"
      ],
      "metadata": {
        "colab": {
          "base_uri": "https://localhost:8080/"
        },
        "id": "VIfwMrDYXVwt",
        "outputId": "1862c86a-9b86-435c-d195-aa4b48bd2287"
      },
      "execution_count": 8,
      "outputs": [
        {
          "output_type": "execute_result",
          "data": {
            "text/plain": [
              "array([[4, 5],\n",
              "       [5, 6],\n",
              "       [7, 4]])"
            ]
          },
          "metadata": {},
          "execution_count": 8
        }
      ]
    },
    {
      "cell_type": "markdown",
      "source": [
        "### Subtraction"
      ],
      "metadata": {
        "id": "yREgGMEQYDqD"
      }
    },
    {
      "cell_type": "code",
      "source": [
        "A-B"
      ],
      "metadata": {
        "colab": {
          "base_uri": "https://localhost:8080/"
        },
        "id": "nb42-_dIY2-a",
        "outputId": "03627a9d-73ac-45eb-e99f-471c1edc4dda"
      },
      "execution_count": 9,
      "outputs": [
        {
          "output_type": "execute_result",
          "data": {
            "text/plain": [
              "array([[-1,  0],\n",
              "       [ 2,  3],\n",
              "       [ 3,  0]])"
            ]
          },
          "metadata": {},
          "execution_count": 9
        }
      ]
    },
    {
      "cell_type": "code",
      "source": [
        "3-B"
      ],
      "metadata": {
        "colab": {
          "base_uri": "https://localhost:8080/"
        },
        "id": "aS6WXOehY53S",
        "outputId": "7e53d309-73f1-46ff-8abc-f604ebc42106"
      },
      "execution_count": 11,
      "outputs": [
        {
          "output_type": "execute_result",
          "data": {
            "text/plain": [
              "array([[1, 1],\n",
              "       [3, 3],\n",
              "       [2, 2]])"
            ]
          },
          "metadata": {},
          "execution_count": 11
        }
      ]
    },
    {
      "cell_type": "markdown",
      "source": [
        "### Element-wise Multiplication"
      ],
      "metadata": {
        "id": "JFW4sf_dY9WF"
      }
    },
    {
      "cell_type": "code",
      "source": [
        "A*B\n",
        "np.multiply(A,B)"
      ],
      "metadata": {
        "colab": {
          "base_uri": "https://localhost:8080/"
        },
        "id": "nRLLNRweZDSD",
        "outputId": "d106ec66-a636-48d2-bbbb-9af830c3c7e5"
      },
      "execution_count": 12,
      "outputs": [
        {
          "output_type": "execute_result",
          "data": {
            "text/plain": [
              "array([[2, 4],\n",
              "       [0, 0],\n",
              "       [4, 1]])"
            ]
          },
          "metadata": {},
          "execution_count": 12
        }
      ]
    },
    {
      "cell_type": "code",
      "source": [
        "2*A"
      ],
      "metadata": {
        "colab": {
          "base_uri": "https://localhost:8080/"
        },
        "id": "YY-8iMzgZR8X",
        "outputId": "a2f664a7-6c5b-46cd-a86b-0108b9815680"
      },
      "execution_count": 13,
      "outputs": [
        {
          "output_type": "execute_result",
          "data": {
            "text/plain": [
              "array([[2, 4],\n",
              "       [4, 6],\n",
              "       [8, 2]])"
            ]
          },
          "metadata": {},
          "execution_count": 13
        }
      ]
    },
    {
      "cell_type": "markdown",
      "source": [
        "## Task 1"
      ],
      "metadata": {
        "id": "sJ7K7moFi_Jl"
      }
    },
    {
      "cell_type": "markdown",
      "source": [
        "Create a function named mat_desc() that thoroughly describes a matrix, it should:\n",
        "1. Displays the shape, size and rank of the matrix\n",
        "2. Displays whether the matrix is square or non-square.\n",
        "3. Displays whether the matrix is an empty matrix.\n",
        "4. Displays if the matrix is an identity, ones, or zeros matrix.\n"
      ],
      "metadata": {
        "id": "BS-1HmCLjFMD"
      }
    },
    {
      "cell_type": "markdown",
      "source": [
        "Use 3 sample matrices in which their shapes are not lower than (3,3), In your methodology, create a flowchart discuss the functions and methods you have done. Present your results in the results section showing the description of each matrix you have declared. "
      ],
      "metadata": {
        "id": "jz-IOwrwjg_w"
      }
    },
    {
      "cell_type": "code",
      "source": [
        "## Function Area\n",
        "\n",
        "import numpy as np"
      ],
      "metadata": {
        "id": "vVc9Yhllj8s_"
      },
      "execution_count": 14,
      "outputs": []
    },
    {
      "cell_type": "code",
      "source": [
        "## Matrix Declarations\n",
        "\n",
        "def mat_desc(mat):\n",
        "    sq = False\n",
        "    mat = np.array(mat)\n",
        "    print(mat)\n",
        "    print('Shape:', mat.shape)\n",
        "    print('Size:', mat.size)\n",
        "    print('Rank:', np.linalg.matrix_rank(mat))\n",
        "    if(mat.shape[0] == mat.shape[1]):\n",
        "        sq = True\n",
        "        print('The matrix is square')\n",
        "    else:\n",
        "        print('The matrix is non-square')\n",
        "    if(mat.shape[0] == 0 and mat.shape[1] == 0):\n",
        "        print('The matrix is empty')\n",
        "    else:\n",
        "        print('The matrix is not empty')\n",
        "    iden = np.identity(mat.shape[0])\n",
        "    if(sq and (iden == mat).all()):\n",
        "        print('The matrix is an identity matrix')\n",
        "    else:\n",
        "        print('The matrix is not an identity matrix')\n",
        "    one = np.ones((mat.shape[0], mat.shape[1]))\n",
        "    if((one == mat).all()):\n",
        "        print('The matrix is an ones matrix')\n",
        "    else:\n",
        "        print('The matrix is not an ones matrix')\n",
        "    zero = np.zeros((mat.shape[0], mat.shape[1]))\n",
        "    if((zero == mat).all()):\n",
        "        print('The matrix is an zeros matrix')\n",
        "    else:\n",
        "        print('The matrix is not a zeros matrix')"
      ],
      "metadata": {
        "id": "-qQgBaWDkDik"
      },
      "execution_count": 15,
      "outputs": []
    },
    {
      "cell_type": "code",
      "source": [
        "## Sample Matrices\n",
        "\n",
        "print('Matrix 1:')\n",
        "mat_desc([[1, 0, 0], [0, 1, 0], [0, 0, 1]])\n",
        "print('Matrix 2:')\n",
        "mat_desc([[2, 0, 0], [0, 2, 0], [0, 0, 2]])\n",
        "print('Matrix 3:')\n",
        "mat_desc([[1, 2, 3], [4, 5, 6], [5, 6, 8]])"
      ],
      "metadata": {
        "colab": {
          "base_uri": "https://localhost:8080/"
        },
        "id": "3QSn5dpakSwh",
        "outputId": "40ca7689-6e82-4595-adad-5c69f1e75c7b"
      },
      "execution_count": 16,
      "outputs": [
        {
          "output_type": "stream",
          "name": "stdout",
          "text": [
            "Matrix 1:\n",
            "[[1 0 0]\n",
            " [0 1 0]\n",
            " [0 0 1]]\n",
            "Shape: (3, 3)\n",
            "Size: 9\n",
            "Rank: 3\n",
            "The matrix is square\n",
            "The matrix is not empty\n",
            "The matrix is an identity matrix\n",
            "The matrix is not an ones matrix\n",
            "The matrix is not a zeros matrix\n",
            "Matrix 2:\n",
            "[[2 0 0]\n",
            " [0 2 0]\n",
            " [0 0 2]]\n",
            "Shape: (3, 3)\n",
            "Size: 9\n",
            "Rank: 3\n",
            "The matrix is square\n",
            "The matrix is not empty\n",
            "The matrix is not an identity matrix\n",
            "The matrix is not an ones matrix\n",
            "The matrix is not a zeros matrix\n",
            "Matrix 3:\n",
            "[[1 2 3]\n",
            " [4 5 6]\n",
            " [5 6 8]]\n",
            "Shape: (3, 3)\n",
            "Size: 9\n",
            "Rank: 3\n",
            "The matrix is square\n",
            "The matrix is not empty\n",
            "The matrix is not an identity matrix\n",
            "The matrix is not an ones matrix\n",
            "The matrix is not a zeros matrix\n"
          ]
        }
      ]
    },
    {
      "cell_type": "markdown",
      "source": [
        "## Task 2"
      ],
      "metadata": {
        "id": "DM_7MRsPlppz"
      }
    },
    {
      "cell_type": "markdown",
      "source": [
        "Create a function named mat_operations() that takes in two matrices a inpyt marameters it should:\n",
        "1. Determines if the matrices are viable for operation and returns your own error mesage if they are not viable.\n",
        "2. Returns the sum of the matrices.\n",
        "3. Returns the difference of the matrices.\n",
        "4. Returns the element-wise multiplication of the matrices.\n",
        "5. Returns the element-wise division of the matrices."
      ],
      "metadata": {
        "id": "ME18yeztlrpd"
      }
    },
    {
      "cell_type": "markdown",
      "source": [
        "Use 3 sample matrices in which their shapes are not lower thant (3,3). In your methodology, create a flowchart discuss the functions and methods you have done. Present your results in the results section showing the description of each matrix you have declared."
      ],
      "metadata": {
        "id": "FdGQd4fcmLMI"
      }
    },
    {
      "cell_type": "code",
      "source": [
        "\n",
        "import numpy as np"
      ],
      "metadata": {
        "id": "boMN5gGgmcBm"
      },
      "execution_count": 17,
      "outputs": []
    },
    {
      "cell_type": "code",
      "source": [
        "def mat_operations(mat1, mat2):\n",
        "    mat1 = np.array(mat1)\n",
        "    mat2 = np.array(mat2)\n",
        "    print('Matrix 1:', mat1)\n",
        "    print('Matrix 2:', mat2)\n",
        "    if(mat1.shape != mat2.shape):\n",
        "        print('The shape of both matrices are not same. Could not perform operations.')\n",
        "        return\n",
        "    print('Sum of the given matrices:')\n",
        "    msum = mat1 + mat2\n",
        "    print(msum)\n",
        "    print('Difference of the given matrices:')\n",
        "    mdiff = mat1 - mat2\n",
        "    print(mdiff)\n",
        "    print('Element-wise multiplication of the given matrices:')\n",
        "    mmul = np.multiply(mat1, mat2)\n",
        "    print(mmul)\n",
        "    print('Element-wise division of the given matrices:')\n",
        "    mmul = np.divide(mat1, mat2)\n",
        "    print(mmul)"
      ],
      "metadata": {
        "id": "EcPt87YZmo5s"
      },
      "execution_count": 18,
      "outputs": []
    },
    {
      "cell_type": "code",
      "source": [
        "print('Sample 1:')\n",
        "mat_operations([[1, 0, 0], [0, 1, 0], [0, 0, 1]], [[1, 2, 4], [2, 3, 4], [4, 5, 6]])\n",
        "print('Sample 2:')\n",
        "mat_operations([[2, 0, 0], [0, 2, 0], [0, 0, 2]], [[1, 2, 4], [2, 3, 4], [4, 5, 6]])\n",
        "print('Sample 3:')\n",
        "mat_operations([[1, 2, 3], [4, 5, 6], [5, 6, 8]], [[1, 2, 4], [2, 3, 4], [4, 5, 6]])"
      ],
      "metadata": {
        "colab": {
          "base_uri": "https://localhost:8080/"
        },
        "id": "9Lo2B_eBms-k",
        "outputId": "a2cd74f6-6aad-472a-f529-1a05fd9adfd9"
      },
      "execution_count": 25,
      "outputs": [
        {
          "output_type": "stream",
          "name": "stdout",
          "text": [
            "Sample 1:\n",
            "Matrix 1: [[1 0 0]\n",
            " [0 1 0]\n",
            " [0 0 1]]\n",
            "Matrix 2: [[1 2 4]\n",
            " [2 3 4]\n",
            " [4 5 6]]\n",
            "Sum of the given matrices:\n",
            "[[2 2 4]\n",
            " [2 4 4]\n",
            " [4 5 7]]\n",
            "Difference of the given matrices:\n",
            "[[ 0 -2 -4]\n",
            " [-2 -2 -4]\n",
            " [-4 -5 -5]]\n",
            "Element-wise multiplication of the given matrices:\n",
            "[[1 0 0]\n",
            " [0 3 0]\n",
            " [0 0 6]]\n",
            "Element-wise division of the given matrices:\n",
            "[[1.         0.         0.        ]\n",
            " [0.         0.33333333 0.        ]\n",
            " [0.         0.         0.16666667]]\n",
            "Sample 2:\n",
            "Matrix 1: [[2 0 0]\n",
            " [0 2 0]\n",
            " [0 0 2]]\n",
            "Matrix 2: [[1 2 4]\n",
            " [2 3 4]\n",
            " [4 5 6]]\n",
            "Sum of the given matrices:\n",
            "[[3 2 4]\n",
            " [2 5 4]\n",
            " [4 5 8]]\n",
            "Difference of the given matrices:\n",
            "[[ 1 -2 -4]\n",
            " [-2 -1 -4]\n",
            " [-4 -5 -4]]\n",
            "Element-wise multiplication of the given matrices:\n",
            "[[ 2  0  0]\n",
            " [ 0  6  0]\n",
            " [ 0  0 12]]\n",
            "Element-wise division of the given matrices:\n",
            "[[2.         0.         0.        ]\n",
            " [0.         0.66666667 0.        ]\n",
            " [0.         0.         0.33333333]]\n",
            "Sample 3:\n",
            "Matrix 1: [[1 2 3]\n",
            " [4 5 6]\n",
            " [5 6 8]]\n",
            "Matrix 2: [[1 2 4]\n",
            " [2 3 4]\n",
            " [4 5 6]]\n",
            "Sum of the given matrices:\n",
            "[[ 2  4  7]\n",
            " [ 6  8 10]\n",
            " [ 9 11 14]]\n",
            "Difference of the given matrices:\n",
            "[[ 0  0 -1]\n",
            " [ 2  2  2]\n",
            " [ 1  1  2]]\n",
            "Element-wise multiplication of the given matrices:\n",
            "[[ 1  4 12]\n",
            " [ 8 15 24]\n",
            " [20 30 48]]\n",
            "Element-wise division of the given matrices:\n",
            "[[1.         1.         0.75      ]\n",
            " [2.         1.66666667 1.5       ]\n",
            " [1.25       1.2        1.33333333]]\n"
          ]
        }
      ]
    }
  ]
}