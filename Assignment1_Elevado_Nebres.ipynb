{
  "nbformat": 4,
  "nbformat_minor": 0,
  "metadata": {
    "colab": {
      "name": "Activity 1 - Python Fundamentals",
      "provenance": [],
      "collapsed_sections": [
        "Vkf1VC1qMpGk",
        "hes9GKmMQw9c",
        "JIc12Uh3R66v",
        "ZNR6ott7qmpo",
        "wcrX6EvPtMWc"
      ],
      "include_colab_link": true
    },
    "kernelspec": {
      "name": "python3",
      "display_name": "Python 3"
    },
    "language_info": {
      "name": "python"
    }
  },
  "cells": [
    {
      "cell_type": "markdown",
      "metadata": {
        "id": "view-in-github",
        "colab_type": "text"
      },
      "source": [
        "<a href=\"https://colab.research.google.com/github/shainaelevado/Linear-Algebra_CHE-2nd-Sem-2022/blob/main/Assignment1_Elevado_Nebres.ipynb\" target=\"_parent\"><img src=\"https://colab.research.google.com/assets/colab-badge.svg\" alt=\"Open In Colab\"/></a>"
      ]
    },
    {
      "cell_type": "markdown",
      "source": [
        "# Welcome to Python Fundamentals\n",
        "\n",
        "In this module, we are going to establish or review our skills in Python Programming. In this notebook we are going to cover:\n",
        "\n",
        "*   Variables and Data Types \n",
        "*   Operations \n",
        "*   Input and Output Operations\n",
        "*   Logic Control\n",
        "*   Iterables \n",
        "*   Functions\n",
        "\n",
        "\n",
        "\n"
      ],
      "metadata": {
        "id": "3Lzl4IXTFC2T"
      }
    },
    {
      "cell_type": "markdown",
      "source": [
        "## Variables and Data Types"
      ],
      "metadata": {
        "id": "oXMoR6PIGagH"
      }
    },
    {
      "cell_type": "code",
      "source": [
        "x = 1\n",
        "a, b = 0, -1\n",
        "b"
      ],
      "metadata": {
        "id": "S-f5HN9GGh41"
      },
      "execution_count": null,
      "outputs": []
    },
    {
      "cell_type": "code",
      "source": [
        "type(x)"
      ],
      "metadata": {
        "colab": {
          "base_uri": "https://localhost:8080/"
        },
        "id": "aUCvzVcIHKZC",
        "outputId": "5d15a811-942e-4181-f69a-ccee582af438"
      },
      "execution_count": null,
      "outputs": [
        {
          "output_type": "execute_result",
          "data": {
            "text/plain": [
              "int"
            ]
          },
          "metadata": {},
          "execution_count": 139
        }
      ]
    },
    {
      "cell_type": "code",
      "source": [
        "y = 1.0\n",
        "type(y)"
      ],
      "metadata": {
        "colab": {
          "base_uri": "https://localhost:8080/"
        },
        "id": "S2311D99HQxh",
        "outputId": "6766d107-33c9-4ecd-c0a8-2c0a698f9bba"
      },
      "execution_count": null,
      "outputs": [
        {
          "output_type": "execute_result",
          "data": {
            "text/plain": [
              "float"
            ]
          },
          "metadata": {},
          "execution_count": 140
        }
      ]
    },
    {
      "cell_type": "code",
      "source": [
        "x = float(x)\n",
        "type(x)"
      ],
      "metadata": {
        "colab": {
          "base_uri": "https://localhost:8080/"
        },
        "id": "gA9xf00SHZMQ",
        "outputId": "bd100420-184c-4744-a6d6-43eea1525621"
      },
      "execution_count": null,
      "outputs": [
        {
          "output_type": "execute_result",
          "data": {
            "text/plain": [
              "float"
            ]
          },
          "metadata": {},
          "execution_count": 141
        }
      ]
    },
    {
      "cell_type": "code",
      "source": [
        "s,t,u = \"0\", '1', 'one'\n",
        "type(s)"
      ],
      "metadata": {
        "colab": {
          "base_uri": "https://localhost:8080/"
        },
        "id": "O1OxkS5VHds8",
        "outputId": "20353e43-bce3-4209-c8c8-6232b7aab7e5"
      },
      "execution_count": null,
      "outputs": [
        {
          "output_type": "execute_result",
          "data": {
            "text/plain": [
              "str"
            ]
          },
          "metadata": {},
          "execution_count": 142
        }
      ]
    },
    {
      "cell_type": "code",
      "source": [
        "s_int = int(s)\n",
        "s_int \n"
      ],
      "metadata": {
        "colab": {
          "base_uri": "https://localhost:8080/"
        },
        "id": "uRyQ6sfaKP30",
        "outputId": "694a4dd6-8505-4a56-d2ae-00e3dda031c2"
      },
      "execution_count": null,
      "outputs": [
        {
          "output_type": "execute_result",
          "data": {
            "text/plain": [
              "0"
            ]
          },
          "metadata": {},
          "execution_count": 143
        }
      ]
    },
    {
      "cell_type": "markdown",
      "source": [
        "## Operations"
      ],
      "metadata": {
        "id": "GVG2tj3gIF_l"
      }
    },
    {
      "cell_type": "markdown",
      "source": [
        "### Arithmetic \n"
      ],
      "metadata": {
        "id": "Olp5cARGIJkR"
      }
    },
    {
      "cell_type": "code",
      "source": [
        "a,b,c,d = 2.0, -0.5, 0, -32"
      ],
      "metadata": {
        "id": "qymGpBuMIMyL"
      },
      "execution_count": null,
      "outputs": []
    },
    {
      "cell_type": "code",
      "source": [
        "### Addition\n",
        "S = a+b\n",
        "s"
      ],
      "metadata": {
        "colab": {
          "base_uri": "https://localhost:8080/"
        },
        "id": "Bbv3fl40IVE_",
        "outputId": "1eea0897-9bde-41c0-f1ea-2b5504d7dbe9"
      },
      "execution_count": null,
      "outputs": [
        {
          "output_type": "execute_result",
          "data": {
            "application/vnd.google.colaboratory.intrinsic+json": {
              "type": "string"
            },
            "text/plain": [
              "'0'"
            ]
          },
          "metadata": {},
          "execution_count": 145
        }
      ]
    },
    {
      "cell_type": "code",
      "source": [
        "### Subtraction\n",
        "D = b-d\n",
        "D"
      ],
      "metadata": {
        "colab": {
          "base_uri": "https://localhost:8080/"
        },
        "id": "BA13xC4dIgSO",
        "outputId": "b82c6755-945c-4b82-d4d9-a551ab26766e"
      },
      "execution_count": null,
      "outputs": [
        {
          "output_type": "execute_result",
          "data": {
            "text/plain": [
              "31.5"
            ]
          },
          "metadata": {},
          "execution_count": 146
        }
      ]
    },
    {
      "cell_type": "code",
      "source": [
        "### Multiplication\n",
        "P = c*d \n",
        "P"
      ],
      "metadata": {
        "colab": {
          "base_uri": "https://localhost:8080/"
        },
        "id": "GsRj4KfzIo5-",
        "outputId": "44f4d321-e8d2-4dbc-96f9-5b39dbcf631d"
      },
      "execution_count": null,
      "outputs": [
        {
          "output_type": "execute_result",
          "data": {
            "text/plain": [
              "0"
            ]
          },
          "metadata": {},
          "execution_count": 147
        }
      ]
    },
    {
      "cell_type": "code",
      "source": [
        "### Division\n",
        "Q = a/b\n",
        "Q"
      ],
      "metadata": {
        "colab": {
          "base_uri": "https://localhost:8080/"
        },
        "id": "2xKx5PpQIvRF",
        "outputId": "1e5492e4-ed57-4ac9-dc77-db7c0140a62c"
      },
      "execution_count": null,
      "outputs": [
        {
          "output_type": "execute_result",
          "data": {
            "text/plain": [
              "-4.0"
            ]
          },
          "metadata": {},
          "execution_count": 148
        }
      ]
    },
    {
      "cell_type": "code",
      "source": [
        "### Floor Division\n",
        "Qf = d/a \n",
        "Qf\n"
      ],
      "metadata": {
        "colab": {
          "base_uri": "https://localhost:8080/"
        },
        "id": "-NHVWk1IIz87",
        "outputId": "fa0c0dd9-d4c4-4e18-bdd1-a863b2ac53a4"
      },
      "execution_count": null,
      "outputs": [
        {
          "output_type": "execute_result",
          "data": {
            "text/plain": [
              "-16.0"
            ]
          },
          "metadata": {},
          "execution_count": 149
        }
      ]
    },
    {
      "cell_type": "code",
      "source": [
        "### Exponential \n",
        "E = c**c\n",
        "E"
      ],
      "metadata": {
        "colab": {
          "base_uri": "https://localhost:8080/"
        },
        "id": "mD6uxex_JF6W",
        "outputId": "99695323-31e9-49fd-9ccf-a839ad129d14"
      },
      "execution_count": null,
      "outputs": [
        {
          "output_type": "execute_result",
          "data": {
            "text/plain": [
              "1"
            ]
          },
          "metadata": {},
          "execution_count": 150
        }
      ]
    },
    {
      "cell_type": "code",
      "source": [
        "### Modulo\n",
        "mod = b%a \n",
        "mod"
      ],
      "metadata": {
        "colab": {
          "base_uri": "https://localhost:8080/"
        },
        "id": "iJNl2aeFJJ9c",
        "outputId": "355b78de-8daf-495c-9f98-ac5ac6bd7cef"
      },
      "execution_count": null,
      "outputs": [
        {
          "output_type": "execute_result",
          "data": {
            "text/plain": [
              "1.5"
            ]
          },
          "metadata": {},
          "execution_count": 151
        }
      ]
    },
    {
      "cell_type": "markdown",
      "source": [
        "### Assignment Operations"
      ],
      "metadata": {
        "id": "Vkf1VC1qMpGk"
      }
    },
    {
      "cell_type": "code",
      "source": [
        " G, H, I, J, K  = 0, 100, 2, 2, 2\n",
        " "
      ],
      "metadata": {
        "id": "zhP1DubGMsok"
      },
      "execution_count": null,
      "outputs": []
    },
    {
      "cell_type": "code",
      "source": [
        "G += a\n",
        "G"
      ],
      "metadata": {
        "colab": {
          "base_uri": "https://localhost:8080/"
        },
        "id": "G3p_aAVeN0Bx",
        "outputId": "898d3778-c12c-4f6d-e0b6-103ea24e4be0"
      },
      "execution_count": null,
      "outputs": [
        {
          "output_type": "execute_result",
          "data": {
            "text/plain": [
              "2.0"
            ]
          },
          "metadata": {},
          "execution_count": 153
        }
      ]
    },
    {
      "cell_type": "code",
      "source": [
        "H -= b\n",
        "H"
      ],
      "metadata": {
        "colab": {
          "base_uri": "https://localhost:8080/"
        },
        "id": "dvYcpZZ4QFYH",
        "outputId": "32427f54-6e4c-4fb2-f91e-59f72025e5e7"
      },
      "execution_count": null,
      "outputs": [
        {
          "output_type": "execute_result",
          "data": {
            "text/plain": [
              "100.5"
            ]
          },
          "metadata": {},
          "execution_count": 154
        }
      ]
    },
    {
      "cell_type": "code",
      "source": [
        "I *= c \n",
        "I"
      ],
      "metadata": {
        "colab": {
          "base_uri": "https://localhost:8080/"
        },
        "id": "IFhf5D9jQOJ-",
        "outputId": "f4427b09-72dc-48eb-e26e-d87cbb2a889c"
      },
      "execution_count": null,
      "outputs": [
        {
          "output_type": "execute_result",
          "data": {
            "text/plain": [
              "0"
            ]
          },
          "metadata": {},
          "execution_count": 155
        }
      ]
    },
    {
      "cell_type": "code",
      "source": [
        "J /= b\n",
        "J"
      ],
      "metadata": {
        "colab": {
          "base_uri": "https://localhost:8080/"
        },
        "id": "4qiubB-MQVax",
        "outputId": "15383300-e32e-48ee-cd90-0cc14f725f0c"
      },
      "execution_count": null,
      "outputs": [
        {
          "output_type": "execute_result",
          "data": {
            "text/plain": [
              "-4.0"
            ]
          },
          "metadata": {},
          "execution_count": 156
        }
      ]
    },
    {
      "cell_type": "code",
      "source": [
        "K **= 4\n",
        "K"
      ],
      "metadata": {
        "colab": {
          "base_uri": "https://localhost:8080/"
        },
        "id": "VUUiXaFWQcLB",
        "outputId": "7e0f43c5-eb7f-4f00-a3f9-b805136aa6e5"
      },
      "execution_count": null,
      "outputs": [
        {
          "output_type": "execute_result",
          "data": {
            "text/plain": [
              "16"
            ]
          },
          "metadata": {},
          "execution_count": 157
        }
      ]
    },
    {
      "cell_type": "markdown",
      "source": [
        "### Comparators"
      ],
      "metadata": {
        "id": "hes9GKmMQw9c"
      }
    },
    {
      "cell_type": "code",
      "source": [
        "size_1, size_2, size_3 = 1, 2.0, \"1\"\n",
        "true_size = 1.0\n"
      ],
      "metadata": {
        "id": "TmIagbIOQ2hY"
      },
      "execution_count": null,
      "outputs": []
    },
    {
      "cell_type": "code",
      "source": [
        "### Equality\n",
        "size_1 == true_size"
      ],
      "metadata": {
        "colab": {
          "base_uri": "https://localhost:8080/"
        },
        "id": "qSVjzLlwRL_t",
        "outputId": "9f05d571-2577-4c5b-e463-50ecf35afd3b"
      },
      "execution_count": null,
      "outputs": [
        {
          "output_type": "execute_result",
          "data": {
            "text/plain": [
              "True"
            ]
          },
          "metadata": {},
          "execution_count": 159
        }
      ]
    },
    {
      "cell_type": "code",
      "source": [
        "### Non-Equality\n",
        "size_2 != true_size "
      ],
      "metadata": {
        "colab": {
          "base_uri": "https://localhost:8080/"
        },
        "id": "S1ZDhYCFRTXG",
        "outputId": "e9c3073f-76d6-4e67-a2d6-13026c2e4e39"
      },
      "execution_count": null,
      "outputs": [
        {
          "output_type": "execute_result",
          "data": {
            "text/plain": [
              "True"
            ]
          },
          "metadata": {},
          "execution_count": 160
        }
      ]
    },
    {
      "cell_type": "code",
      "source": [
        "### Inequality\n",
        "s1 = size_1 > size_2\n",
        "s2 = size_1 < size_2\n",
        "s3 = true_size >= size_1 \n",
        "s4 = size_2 <= true_size"
      ],
      "metadata": {
        "id": "VHlsLGThRcP2"
      },
      "execution_count": null,
      "outputs": []
    },
    {
      "cell_type": "markdown",
      "source": [
        "### Logical "
      ],
      "metadata": {
        "id": "JIc12Uh3R66v"
      }
    },
    {
      "cell_type": "code",
      "source": [
        "size_1 == true_size"
      ],
      "metadata": {
        "colab": {
          "base_uri": "https://localhost:8080/"
        },
        "id": "Yd_OGHXUR9-q",
        "outputId": "c2777de0-e5af-40e3-b501-3682cf166464"
      },
      "execution_count": null,
      "outputs": [
        {
          "output_type": "execute_result",
          "data": {
            "text/plain": [
              "True"
            ]
          },
          "metadata": {},
          "execution_count": 162
        }
      ]
    },
    {
      "cell_type": "code",
      "source": [
        "size_1 is true_size"
      ],
      "metadata": {
        "colab": {
          "base_uri": "https://localhost:8080/"
        },
        "id": "_GCDWNx4SCyJ",
        "outputId": "4169735c-c7bb-4a02-cb26-2c211e3cc365"
      },
      "execution_count": null,
      "outputs": [
        {
          "output_type": "execute_result",
          "data": {
            "text/plain": [
              "False"
            ]
          },
          "metadata": {},
          "execution_count": 163
        }
      ]
    },
    {
      "cell_type": "code",
      "source": [
        "size_1 is not true_size"
      ],
      "metadata": {
        "colab": {
          "base_uri": "https://localhost:8080/"
        },
        "id": "EBFYSGH5SFqI",
        "outputId": "0a09fec1-48cb-41a7-fa2e-c915a055c172"
      },
      "execution_count": null,
      "outputs": [
        {
          "output_type": "execute_result",
          "data": {
            "text/plain": [
              "True"
            ]
          },
          "metadata": {},
          "execution_count": 164
        }
      ]
    },
    {
      "cell_type": "code",
      "source": [
        "P, Q = True, False \n",
        "conj = P and Q\n",
        "conj"
      ],
      "metadata": {
        "colab": {
          "base_uri": "https://localhost:8080/"
        },
        "id": "8GGqigD4SJdQ",
        "outputId": "1cea09ea-cacd-436d-fe49-6f71c76f6560"
      },
      "execution_count": null,
      "outputs": [
        {
          "output_type": "execute_result",
          "data": {
            "text/plain": [
              "False"
            ]
          },
          "metadata": {},
          "execution_count": 165
        }
      ]
    },
    {
      "cell_type": "code",
      "source": [
        "jsms = P or Q\n",
        "jsms"
      ],
      "metadata": {
        "colab": {
          "base_uri": "https://localhost:8080/"
        },
        "id": "LuAipncjSSbW",
        "outputId": "3e717ba9-6f77-49bd-b6fc-f17694c3bfc3"
      },
      "execution_count": null,
      "outputs": [
        {
          "output_type": "execute_result",
          "data": {
            "text/plain": [
              "True"
            ]
          },
          "metadata": {},
          "execution_count": 166
        }
      ]
    },
    {
      "cell_type": "code",
      "source": [
        "nand = not(P and Q)\n",
        "nand"
      ],
      "metadata": {
        "colab": {
          "base_uri": "https://localhost:8080/"
        },
        "id": "Z4mdBh2rSWQe",
        "outputId": "3318514f-c6f5-44de-8508-250ffc64b8dc"
      },
      "execution_count": null,
      "outputs": [
        {
          "output_type": "execute_result",
          "data": {
            "text/plain": [
              "True"
            ]
          },
          "metadata": {},
          "execution_count": 167
        }
      ]
    },
    {
      "cell_type": "code",
      "source": [
        "min = (not P and Q) or (P and not Q)\n",
        "min"
      ],
      "metadata": {
        "colab": {
          "base_uri": "https://localhost:8080/"
        },
        "id": "P2pV9dFCSlcp",
        "outputId": "ef1c52fe-4ed5-4146-ad59-e42721dba956"
      },
      "execution_count": null,
      "outputs": [
        {
          "output_type": "execute_result",
          "data": {
            "text/plain": [
              "True"
            ]
          },
          "metadata": {},
          "execution_count": 168
        }
      ]
    },
    {
      "cell_type": "markdown",
      "source": [
        "## Input and Output"
      ],
      "metadata": {
        "id": "sOHzUTj9S2YG"
      }
    },
    {
      "cell_type": "code",
      "source": [
        "print(\"Hello World!\")"
      ],
      "metadata": {
        "colab": {
          "base_uri": "https://localhost:8080/"
        },
        "id": "rvys06GkjxTX",
        "outputId": "7db49a06-c57a-4997-93bf-73f83baaf377"
      },
      "execution_count": null,
      "outputs": [
        {
          "output_type": "stream",
          "name": "stdout",
          "text": [
            "Hello World!\n"
          ]
        }
      ]
    },
    {
      "cell_type": "code",
      "source": [
        "cnt = 169000"
      ],
      "metadata": {
        "id": "Wdo4D8hAj55f"
      },
      "execution_count": null,
      "outputs": []
    },
    {
      "cell_type": "code",
      "source": [
        "string = \"Hello World!\"\n",
        "print(string, \", Current count is:\", cnt)\n",
        "cnt +=10000"
      ],
      "metadata": {
        "colab": {
          "base_uri": "https://localhost:8080/"
        },
        "id": "BeELo_bYj8f8",
        "outputId": "7f70211d-1134-410c-c252-d1288ce19782"
      },
      "execution_count": null,
      "outputs": [
        {
          "output_type": "stream",
          "name": "stdout",
          "text": [
            "Hello World! , Current count is: 169000\n"
          ]
        }
      ]
    },
    {
      "cell_type": "code",
      "source": [
        "sem_grade = 71.84538435\n",
        "name = \"shai\" \n",
        "print(\"Hello {}, your semestral grade is: {}\".format(name, sem_grade))"
      ],
      "metadata": {
        "colab": {
          "base_uri": "https://localhost:8080/"
        },
        "id": "4MSTYshllM-G",
        "outputId": "1e98d162-e599-4c7c-9ebd-5f38498ba31c"
      },
      "execution_count": null,
      "outputs": [
        {
          "output_type": "stream",
          "name": "stdout",
          "text": [
            "Hello shai, your semestral grade is: 71.84538435\n"
          ]
        }
      ]
    },
    {
      "cell_type": "code",
      "source": [
        "w_pg, w_mg, w_fg = 0.3, 0.3, 0.4\n",
        "print(\"The weights of your semestral grades are:\\\n",
        "\\n\\t{:.2%} for Prelims\\\n",
        "\\n\\t{:.2%} for Midterms, and\\\n",
        "\\n\\t{:.2%} for Finals.\".format(w_pg, w_mg, w_fg))"
      ],
      "metadata": {
        "colab": {
          "base_uri": "https://localhost:8080/"
        },
        "id": "NJpYFGXmls9D",
        "outputId": "539e04c5-5b40-486b-ad11-8f06858d4899"
      },
      "execution_count": null,
      "outputs": [
        {
          "output_type": "stream",
          "name": "stdout",
          "text": [
            "The weights of your semestral grades are:\n",
            "\t30.00% for Prelims\n",
            "\t30.00% for Midterms, and\n",
            "\t40.00% for Finals.\n"
          ]
        }
      ]
    },
    {
      "cell_type": "code",
      "source": [
        "x = input(\"Enter a number: \")\n",
        "x"
      ],
      "metadata": {
        "id": "ZE0I9BZonmnv",
        "colab": {
          "base_uri": "https://localhost:8080/",
          "height": 53
        },
        "outputId": "4aaaf18a-b493-4190-b966-0fc6f42403bd"
      },
      "execution_count": null,
      "outputs": [
        {
          "name": "stdout",
          "output_type": "stream",
          "text": [
            "Enter a number: 5\n"
          ]
        },
        {
          "output_type": "execute_result",
          "data": {
            "application/vnd.google.colaboratory.intrinsic+json": {
              "type": "string"
            },
            "text/plain": [
              "'5'"
            ]
          },
          "metadata": {},
          "execution_count": 174
        }
      ]
    },
    {
      "cell_type": "code",
      "source": [
        "name = input(\"Enter your name: \")\n",
        "pg = input(\"Enter prelim grade: \")\n",
        "mg = input(\"Enter midterm grade: \")\n",
        "fg = input(\"Enter finals grade: \")\n",
        "sem_grade = None \n",
        "print(\"Hello {}, your semestral grade is: {}\".format(name, sem_grade))"
      ],
      "metadata": {
        "id": "iFkDxtRFoE54",
        "colab": {
          "base_uri": "https://localhost:8080/"
        },
        "outputId": "294111ce-7409-43f7-836f-9c5ee22232f8"
      },
      "execution_count": null,
      "outputs": [
        {
          "output_type": "stream",
          "name": "stdout",
          "text": [
            "Enter your name: shaina\n",
            "Enter prelim grade: 78\n",
            "Enter midterm grade: 90\n",
            "Enter finals grade: 91\n",
            "Hello shaina, your semestral grade is: None\n"
          ]
        }
      ]
    },
    {
      "cell_type": "markdown",
      "source": [
        "## Looping Statements "
      ],
      "metadata": {
        "id": "h_8ODs-6pqLp"
      }
    },
    {
      "cell_type": "markdown",
      "source": [
        "### While"
      ],
      "metadata": {
        "id": "53WEF1reqPfM"
      }
    },
    {
      "cell_type": "code",
      "source": [
        "### while loops \n",
        "i, j = 0, 10\n",
        "while(i<=j):\n",
        "    print(f\"{i}\\t|\\t{j}\")\n",
        "    i += 1\n",
        "    i"
      ],
      "metadata": {
        "id": "mY7gW1tqqRN3",
        "colab": {
          "base_uri": "https://localhost:8080/"
        },
        "outputId": "bc29f6be-baea-4037-b266-e5d1cd7d65fe"
      },
      "execution_count": null,
      "outputs": [
        {
          "output_type": "stream",
          "name": "stdout",
          "text": [
            "0\t|\t10\n",
            "1\t|\t10\n",
            "2\t|\t10\n",
            "3\t|\t10\n",
            "4\t|\t10\n",
            "5\t|\t10\n",
            "6\t|\t10\n",
            "7\t|\t10\n",
            "8\t|\t10\n",
            "9\t|\t10\n",
            "10\t|\t10\n"
          ]
        }
      ]
    },
    {
      "cell_type": "markdown",
      "source": [
        "### For"
      ],
      "metadata": {
        "id": "ZNR6ott7qmpo"
      }
    },
    {
      "cell_type": "code",
      "source": [
        "# for(int = 0; i<=10; i++){\n",
        "# printf(i)\n",
        "# }\n",
        "\n",
        "i = 0\n",
        "for i in range (11):\n",
        "  print(i)"
      ],
      "metadata": {
        "id": "XPD2GQezqpXG",
        "colab": {
          "base_uri": "https://localhost:8080/"
        },
        "outputId": "df40dcaa-5920-4ee6-93a0-bc34c5d77dc2"
      },
      "execution_count": null,
      "outputs": [
        {
          "output_type": "stream",
          "name": "stdout",
          "text": [
            "0\n",
            "1\n",
            "2\n",
            "3\n",
            "4\n",
            "5\n",
            "6\n",
            "7\n",
            "8\n",
            "9\n",
            "10\n"
          ]
        }
      ]
    },
    {
      "cell_type": "code",
      "source": [
        "playlist = [\"Inferno\", \"Welcome to the Black Parade\", \"Let the Flames Begin\"]\n",
        "print('Now Playing: \\n')\n",
        "for song in playlist:\n",
        "    print(song)"
      ],
      "metadata": {
        "id": "-SBF-yPJrBD-",
        "colab": {
          "base_uri": "https://localhost:8080/"
        },
        "outputId": "cb98767b-96be-430e-aac8-1cf2ff6be233"
      },
      "execution_count": null,
      "outputs": [
        {
          "output_type": "stream",
          "name": "stdout",
          "text": [
            "Now Playing: \n",
            "\n",
            "Inferno\n",
            "Welcome to the Black Parade\n",
            "Let the Flames Begin\n"
          ]
        }
      ]
    },
    {
      "cell_type": "markdown",
      "source": [
        "## Flow Control"
      ],
      "metadata": {
        "id": "QNIq-jKysoM7"
      }
    },
    {
      "cell_type": "markdown",
      "source": [
        "### Condition Statements\n"
      ],
      "metadata": {
        "id": "jjf7VvECsqyt"
      }
    },
    {
      "cell_type": "code",
      "source": [
        "num_1, num_2 = 14, 12\n",
        "if (num_1 == num_2):\n",
        "     print(\"HAHA\")\n",
        "elif(num_1>num_2):\n",
        "     print(\"HOHO\")\n",
        "else:\n",
        "    print(\"HUHU\")"
      ],
      "metadata": {
        "id": "mkhpYdcHsuBP",
        "colab": {
          "base_uri": "https://localhost:8080/"
        },
        "outputId": "1fb00d78-3727-497b-db7b-7570fb10a907"
      },
      "execution_count": null,
      "outputs": [
        {
          "output_type": "stream",
          "name": "stdout",
          "text": [
            "HOHO\n"
          ]
        }
      ]
    },
    {
      "cell_type": "markdown",
      "source": [
        "## Functions"
      ],
      "metadata": {
        "id": "wcrX6EvPtMWc"
      }
    },
    {
      "cell_type": "code",
      "source": [
        "# void deleteUser (int userid){\n",
        "#   delete(userid);\n",
        "#}\n",
        "\n",
        "def delete_user (userid):\n",
        "    print(\"Succesfully deleted user: {}\".format (userid))\n",
        "\n",
        "def delete_all_users ():\n",
        "    print(\"successfully deleted all users\")\n"
      ],
      "metadata": {
        "id": "YUfx3IB-tOHk"
      },
      "execution_count": null,
      "outputs": []
    },
    {
      "cell_type": "code",
      "source": [
        "userid = 202011718\n",
        "delete_user(202011718)\n",
        "delete_all_users()\n"
      ],
      "metadata": {
        "id": "SX5yNub2tjCr",
        "colab": {
          "base_uri": "https://localhost:8080/"
        },
        "outputId": "34ccccf1-20fa-45c9-e78e-6e23ff498e16"
      },
      "execution_count": null,
      "outputs": [
        {
          "output_type": "stream",
          "name": "stdout",
          "text": [
            "Succesfully deleted user: 202011718\n",
            "successfully deleted all users\n"
          ]
        }
      ]
    },
    {
      "cell_type": "code",
      "source": [
        "def add(addend1, addend2):\n",
        "  print(\"I know how to add addend1 and addend2\")\n",
        "  return addend1 + addend2\n",
        "\n",
        "def power_of_base2(exponent):\n",
        "  return 2**exponent \n",
        "\n",
        "addend1 = 5\n",
        "addend2 = 10\n",
        "\n",
        "exponent = 5\n",
        "\n",
        "#add(addend1, addend2)\n",
        "power_of_base2(exponent)"
      ],
      "metadata": {
        "id": "wuwC-j9qtrVc",
        "colab": {
          "base_uri": "https://localhost:8080/"
        },
        "outputId": "dac161f6-e8e4-4b27-c6c6-3ca5b081b651"
      },
      "execution_count": null,
      "outputs": [
        {
          "output_type": "execute_result",
          "data": {
            "text/plain": [
              "32"
            ]
          },
          "metadata": {},
          "execution_count": 13
        }
      ]
    },
    {
      "cell_type": "code",
      "source": [
        "add(addend1, addend2)"
      ],
      "metadata": {
        "colab": {
          "base_uri": "https://localhost:8080/"
        },
        "id": "n6ameUoQyEzz",
        "outputId": "51f4b795-7e62-47c2-c195-d8dda9e47dda"
      },
      "execution_count": null,
      "outputs": [
        {
          "output_type": "stream",
          "name": "stdout",
          "text": [
            "I know how to add addend1 and addend2\n"
          ]
        },
        {
          "output_type": "execute_result",
          "data": {
            "text/plain": [
              "15"
            ]
          },
          "metadata": {},
          "execution_count": 14
        }
      ]
    },
    {
      "cell_type": "markdown",
      "source": [
        "## Activity: Calculator\n"
      ],
      "metadata": {
        "id": "H9tDWojUzHWY"
      }
    },
    {
      "cell_type": "code",
      "source": [
        "name = input(\"Enter your name: \")\n",
        "cn = input(\"Enter your course name: \")\n",
        "pg = input(\"Enter prelim grade: \")\n",
        "mg = input(\"Enter midterm grade: \")\n",
        "fg = input(\"Enter finals grade: \")\n",
        "\n",
        "pg = int(pg)\n",
        "mg = int(mg)\n",
        "fg = int(fg)\n",
        "\n",
        "sem_grade = (pg*.3) + (mg*.3) + (fg*.4)\n",
        "\n",
        "\n",
        "if (sem_grade > 70):\n",
        "  print(\"Hello {}, your semestral grade in {} is: {} \\U0001f600\".format(name, cn, sem_grade))\n",
        "\n",
        "elif(sem_grade == 70):\n",
        "  print(\"Hello {}, your semestral grade in {} is: {} \\U0001F606\".format(name, cn, sem_grade))\n",
        "\n",
        "else:\n",
        "  print(\"Hello {}, your semestral grade in {} is: {} \\U0001F62D\".format(name, cn, sem_grade))\n",
        "\n",
        "\n"
      ],
      "metadata": {
        "colab": {
          "base_uri": "https://localhost:8080/"
        },
        "id": "p0qPWilP59Hw",
        "outputId": "677a1303-0c28-4bc5-ee1c-fa01dc9cca7a"
      },
      "execution_count": 1,
      "outputs": [
        {
          "output_type": "stream",
          "name": "stdout",
          "text": [
            "Enter your name: Shaina\n",
            "Enter your course name: CHECAL\n",
            "Enter prelim grade: 96\n",
            "Enter midterm grade: 98\n",
            "Enter finals grade: 89\n",
            "Hello Shaina, your semestral grade in CHECAL is: 93.8 😀\n"
          ]
        }
      ]
    }
  ]
}